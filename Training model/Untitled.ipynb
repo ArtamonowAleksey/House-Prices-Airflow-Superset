{
 "cells": [
  {
   "cell_type": "code",
   "execution_count": 1,
   "id": "2ae0f225-9503-413b-a6fa-26c90b535763",
   "metadata": {},
   "outputs": [],
   "source": [
    "import pickle"
   ]
  },
  {
   "cell_type": "code",
   "execution_count": 3,
   "id": "35e18f75-0690-4c42-88f6-3e802a55431c",
   "metadata": {},
   "outputs": [],
   "source": [
    "def label_encode(X):\n",
    "    return X.apply(lambda col: LabelEncoder().fit_transform(col))"
   ]
  },
  {
   "cell_type": "code",
   "execution_count": 4,
   "id": "81396fdc-ae64-41da-aef3-b3290d45527a",
   "metadata": {},
   "outputs": [],
   "source": [
    "with open('label_encoder_transformer.pkl', 'rb') as f:\n",
    "    label_encoder = pickle.load(f)"
   ]
  }
 ],
 "metadata": {
  "kernelspec": {
   "display_name": "Python 3 (ipykernel)",
   "language": "python",
   "name": "python3"
  },
  "language_info": {
   "codemirror_mode": {
    "name": "ipython",
    "version": 3
   },
   "file_extension": ".py",
   "mimetype": "text/x-python",
   "name": "python",
   "nbconvert_exporter": "python",
   "pygments_lexer": "ipython3",
   "version": "3.11.7"
  }
 },
 "nbformat": 4,
 "nbformat_minor": 5
}
