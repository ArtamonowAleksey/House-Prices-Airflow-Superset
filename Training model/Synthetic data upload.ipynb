{
 "cells": [
  {
   "cell_type": "code",
   "execution_count": 1,
   "id": "ff05457c-9767-42eb-b68a-b4cf1c59195f",
   "metadata": {},
   "outputs": [],
   "source": [
    "import pandas as pd\n",
    "import psycopg2\n",
    "from sqlalchemy import create_engine \n",
    "import configparser \n",
    "import datetime\n",
    "\n",
    "from sdv.single_table import GaussianCopulaSynthesizer\n",
    "from sdv.metadata import Metadata"
   ]
  },
  {
   "cell_type": "code",
   "execution_count": 2,
   "id": "c246bc6e-eb7c-4e6b-af18-db3e3b01b51f",
   "metadata": {},
   "outputs": [],
   "source": [
    "#Берем данные по БД\n",
    "\n",
    "config = configparser.ConfigParser()\n",
    "config.read('config.ini')\n",
    "conn_string = config.get('DATABASE', 'connection_url')"
   ]
  },
  {
   "cell_type": "code",
   "execution_count": 11,
   "id": "09a79395-5d0d-4705-b4c8-51b78eb25b69",
   "metadata": {},
   "outputs": [],
   "source": [
    "#Загружаем данные в БД\n",
    "\n",
    "\n",
    "#Загрузка модели для генерации случайных данных\n",
    "\n",
    "filepath='my_synthesizer.pkl'\n",
    "synthesizer = GaussianCopulaSynthesizer.load(filepath)\n",
    "\n",
    "synthetic_data = synthesizer.sample(num_rows=10)\n",
    "\n",
    "#Убираем баг и подставляем дату\n",
    "\n",
    "synthetic_data['dt'] = datetime.datetime.today().strftime('%Y-%m-%d %H:%M:%S')\n",
    "\n",
    "#Баг с обучением\n",
    "\n",
    "synthetic_data['3SsnPorch'] = 0\n",
    "\n",
    "#Функция чтения и записи в БД\n",
    "\n",
    "def upload_to_db(df_in,db_table_out):\n",
    "    \n",
    "    try:\n",
    "\n",
    "        db = create_engine(conn_string) \n",
    "        with db.connect() as conn:\n",
    "            \n",
    "            df_in.to_sql(db_table_out, con=conn, if_exists='append',index=False) \n",
    "            print('Uploaded')\n",
    "    finally:\n",
    "        print('OK')\n",
    "\n",
    "#Добавить логирование в файл"
   ]
  },
  {
   "cell_type": "code",
   "execution_count": 12,
   "id": "b8188c89-d7f8-41bf-b24c-f43bb8e62079",
   "metadata": {},
   "outputs": [
    {
     "name": "stdout",
     "output_type": "stream",
     "text": [
      "Uploaded\n",
      "OK\n"
     ]
    }
   ],
   "source": [
    "df_in = synthetic_data\n",
    "db_table_out = 'house_prices_generator'\n",
    "\n",
    "upload_to_db(df_in,db_table_out)"
   ]
  }
 ],
 "metadata": {
  "kernelspec": {
   "display_name": "Python 3 (ipykernel)",
   "language": "python",
   "name": "python3"
  },
  "language_info": {
   "codemirror_mode": {
    "name": "ipython",
    "version": 3
   },
   "file_extension": ".py",
   "mimetype": "text/x-python",
   "name": "python",
   "nbconvert_exporter": "python",
   "pygments_lexer": "ipython3",
   "version": "3.11.7"
  }
 },
 "nbformat": 4,
 "nbformat_minor": 5
}
