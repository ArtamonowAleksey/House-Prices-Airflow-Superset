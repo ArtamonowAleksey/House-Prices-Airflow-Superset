{
 "cells": [
  {
   "cell_type": "code",
   "execution_count": 1,
   "id": "0fdfb076-6062-4c6e-846d-c67f77a31407",
   "metadata": {},
   "outputs": [],
   "source": [
    "import pandas as pd\n",
    "import numpy as np\n",
    "import seaborn as sns\n",
    "import matplotlib.pyplot as plt\n",
    "import warnings\n",
    "import math\n",
    "import configparser\n",
    "from sqlalchemy import create_engine  \n",
    "import statsmodels.api as sm\n",
    "import datetime\n",
    "from sklearn.impute import SimpleImputer\n",
    "from sklearn.compose import ColumnTransformer\n",
    "from sklearn.preprocessing import MinMaxScaler,FunctionTransformer,OrdinalEncoder\n",
    "from sklearn.pipeline import Pipeline\n",
    "from sklearn.model_selection import train_test_split,GridSearchCV,cross_val_score,KFold\n",
    "from sklearn.preprocessing import MinMaxScaler\n",
    "from sklearn.pipeline import make_pipeline\n",
    "from sklearn.feature_selection import RFE\n",
    "from sklearn.feature_selection import RFECV\n",
    "from sklearn.metrics import mean_squared_error,mean_absolute_error\n",
    "\n",
    "from sklearn.preprocessing import LabelEncoder\n",
    "from sklearn.linear_model import LinearRegression, Ridge,Lasso\n",
    "from sklearn.neighbors import KNeighborsRegressor\n",
    "from sklearn.ensemble import GradientBoostingRegressor\n",
    "from sklearn.ensemble import ExtraTreesRegressor, RandomForestRegressor\n",
    "from sklearn.tree import DecisionTreeRegressor\n",
    "from sklearn.linear_model import Lasso,Ridge\n",
    "\n",
    "#Модели регрессии\n",
    "#Gradient Boosting Regression\n",
    "from sklearn.ensemble import GradientBoostingRegressor\n",
    "#Elastic Net Regression\n",
    "from sklearn.linear_model import ElasticNet\n",
    "#Stochastic Gradient Descent Regression\n",
    "from sklearn.linear_model import SGDRegressor\n",
    "#Support Vector Machine\n",
    "from sklearn.svm import SVR\n",
    "#Bayesian Ridge Regression\n",
    "from sklearn.linear_model import BayesianRidge\n",
    "#CatBoost Regressor\n",
    "from catboost import CatBoostRegressor\n",
    "#Kernel Ridge Regression\n",
    "from sklearn.kernel_ridge import KernelRidge\n",
    "#Linear Regression\n",
    "from sklearn.linear_model import LinearRegression\n",
    "#Ridge and Lasso regression\n",
    "#XGBoost Regressor\n",
    "from xgboost import XGBRegressor\n",
    "#LGBM Regressor\n",
    "#from lightgbm import LGBMRegressor\n",
    "\n",
    "# Подбор гиперпараметров\n",
    "\n",
    "import optuna\n",
    "\n",
    "import pickle\n",
    "%matplotlib inline\n"
   ]
  },
  {
   "cell_type": "code",
   "execution_count": 5,
   "id": "c9356d6d-56f3-48f9-b20a-c1918c2c2c9b",
   "metadata": {},
   "outputs": [
    {
     "name": "stdout",
     "output_type": "stream",
     "text": [
      "Name: sdv\n",
      "Version: 1.17.0\n",
      "Summary: Generate synthetic data for single table, multi table and sequential data\n",
      "Home-page: \n",
      "Author: \n",
      "Author-email: \"DataCebo, Inc.\" <info@sdv.dev>\n",
      "License: BSL-1.1\n",
      "Location: /opt/anaconda3/lib/python3.11/site-packages\n",
      "Requires: boto3, botocore, cloudpickle, copulas, ctgan, deepecho, graphviz, numpy, pandas, platformdirs, pyyaml, rdt, sdmetrics, tqdm\n",
      "Required-by: \n",
      "Note: you may need to restart the kernel to use updated packages.\n"
     ]
    }
   ],
   "source": [
    "pip show sdv\n"
   ]
  },
  {
   "cell_type": "code",
   "execution_count": 7,
   "id": "193ea7d3-64ed-4ff4-94bb-ac56817d71dc",
   "metadata": {},
   "outputs": [
    {
     "name": "stdout",
     "output_type": "stream",
     "text": [
      "# packages in environment at /opt/anaconda3:\n",
      "#\n",
      "# Name                    Version                   Build  Channel\n",
      "brotli-python             1.0.9           py311hcec6c5f_7  \n",
      "dnspython                 2.6.1                    pypi_0    pypi\n",
      "gitpython                 3.1.37          py311hecd8cb5_0  \n",
      "ipython                   8.20.0          py311hecd8cb5_0  \n",
      "ipython_genutils          0.2.0              pyhd3eb1b0_1  \n",
      "msgpack-python            1.0.3           py311ha357a0b_0  \n",
      "python                    3.11.7               hf27a42d_0  \n",
      "python-daemon             3.0.1                    pypi_0    pypi\n",
      "python-dateutil           2.9.0.post0              pypi_0    pypi\n",
      "python-dotenv             0.21.0          py311hecd8cb5_0  \n",
      "python-fastjsonschema     2.16.2          py311hecd8cb5_0  \n",
      "python-gitlab             2.10.1                   pypi_0    pypi\n",
      "python-graphviz           0.20.1          py311hecd8cb5_0  \n",
      "python-json-logger        2.0.7           py311hecd8cb5_0  \n",
      "python-libarchive-c       2.9                pyhd3eb1b0_1  \n",
      "python-lmdb               1.4.1           py311hcec6c5f_0  \n",
      "python-lsp-black          1.2.1           py311hecd8cb5_0  \n",
      "python-lsp-jsonrpc        1.0.0              pyhd3eb1b0_0  \n",
      "python-lsp-server         1.7.2           py311hecd8cb5_0  \n",
      "python-nvd3               0.16.0                   pypi_0    pypi\n",
      "python-slugify            8.0.4                    pypi_0    pypi\n",
      "python-snappy             0.6.1           py311hcec6c5f_0  \n",
      "python.app                3               py311h6c40b1e_0  \n",
      "\n",
      "Note: you may need to restart the kernel to use updated packages.\n"
     ]
    }
   ],
   "source": [
    "conda list python"
   ]
  },
  {
   "cell_type": "code",
   "execution_count": null,
   "id": "89b252e3-a274-4a62-80f0-6b88b9a81e5a",
   "metadata": {},
   "outputs": [],
   "source": [
    "xgboost ,numpy, scipy,configparser,pandas,pytz,tzdata,python-dateutil,\n",
    "six,sqlalchemy,greenlet,datetime,scikit-learn,joblib,threadpoolctl,\n",
    "sdv,\n",
    "boto3, botocore, cloudpickle, copulas, ctgan, deepecho, graphviz, platformdirs, pyyaml, rdt, sdmetrics, tqdm\n",
    "botocore, jmespath, s3transfer\n",
    "jmespath, python-dateutil, urllib3\n",
    "plotly\n",
    "rdt, torch, tqdm\n",
    "anaconda-client, astropy, bokeh, clickclick, conda-build, conda-repo-cli, conda-verify, connexion,\n",
    "cookiecutter, dask, distributed, intake, jupyter-events, optuna, sdv"
   ]
  },
  {
   "cell_type": "code",
   "execution_count": null,
   "id": "68ccb836-aa3e-4300-a649-40dc503c2e87",
   "metadata": {},
   "outputs": [],
   "source": [
    "python-dateutil, pytz, tzdata"
   ]
  },
  {
   "cell_type": "code",
   "execution_count": null,
   "id": "5d7df976-882a-4790-a53c-a2572a566cff",
   "metadata": {},
   "outputs": [],
   "source": [
    "#Ставим кол-во выводимых строк и столбцов \n",
    "\n",
    "pd.set_option('display.max_rows', 500)\n",
    "pd.set_option('display.max_columns', 500)\n",
    "pd.set_option('display.max_colwidth', None)\n",
    "\n",
    "#Отключаем предупреждения\n",
    "\n",
    "warnings.filterwarnings('ignore')"
   ]
  },
  {
   "cell_type": "code",
   "execution_count": null,
   "id": "b3103de8-b773-4fc5-b512-7747340a2451",
   "metadata": {
    "scrolled": true
   },
   "outputs": [],
   "source": [
    "#Используем если данные лежат в postgres БД\n",
    "\n",
    "config = configparser.ConfigParser()\n",
    "config.read('config.ini')\n",
    "conn_string = config.get('DATABASE', 'connection_url')\n",
    "\n",
    "# Создаем строку подключения\n",
    "\n",
    "engine = create_engine(conn_string)\n",
    "table = 'house_prices_train'\n",
    "\n",
    "# Выполняем SQL-запрос и загружаем данные в DataFrame\n",
    "query = f\"SELECT * FROM {table}\"\n",
    "\n",
    "train_df = pd.read_sql(query, engine)\n",
    "\n",
    "# Печатаем первые строки для проверки\n",
    "train_df.head(2)"
   ]
  },
  {
   "cell_type": "code",
   "execution_count": null,
   "id": "f8ed090c-f40d-4e52-b1c2-a939091ea529",
   "metadata": {},
   "outputs": [],
   "source": [
    "config = configparser.ConfigParser()\n",
    "config.read('config.ini')\n",
    "conn_string = config.get('DATABASE', 'connection_url')\n",
    "\n",
    "#Таблица куда записываем предобработанный house_prices\n",
    "\n",
    "#Основная таблица\n",
    "\n",
    "general_table = 'house_prices_fin'\n",
    "\n",
    "#Таблица с новыми данными которые генерируются\n",
    "\n",
    "new_data_from_generator = 'house_prices_generator'\n",
    "\n",
    "#Таблица куда сохраняются предобработанные данные\n",
    "\n",
    "table_upload = 'house_prices_preprocess'\n",
    "\n",
    "#Загрузка модели для генерации случайных данных\n",
    "\n",
    "with open('my_synthesizer.pkl', 'rb') as f:\n",
    "    synthesizer = pickle.load(f)  \n",
    "\n",
    "# Загрузка сохраненного pipeline для числовых данных\n",
    "\n",
    "with open('num_pipe.pkl', 'rb') as f:\n",
    "    num_pipe = pickle.load(f)  \n",
    "\n",
    "#Загрузка сохраненного категориального импутера\n",
    "\n",
    "with open('cat_imputer.pkl', 'rb') as f:\n",
    "    cat_imputer = pickle.load(f) \n",
    "\n",
    "#Загрузка сохраненного label_encoder_transformer\n",
    "\n",
    "#Определение функции для label_encoder_transformer\n",
    "\n",
    "def label_encode(X):\n",
    "    return X.apply(lambda col: LabelEncoder().fit_transform(col))\n",
    "\n",
    "with open('label_encoder_transformer.pkl', 'rb') as f:\n",
    "    label_encoder = pickle.load(f)\n",
    "\n",
    "#Загрузка самой модели\n",
    "\n",
    "with open(\"XGBRegressor.pkl\", 'rb') as f:\n",
    "    XGB_model = pickle.load(f)\n",
    "\n",
    "for_drop =['PoolQC', 'MiscFeature', 'Alley', 'Fence','Id','dt','SalePrice']"
   ]
  },
  {
   "cell_type": "code",
   "execution_count": null,
   "id": "349a4058-cf39-407a-bbbc-c503cd9fb6ba",
   "metadata": {},
   "outputs": [],
   "source": [
    "#Функция для генерации новых данных\n",
    "\n",
    "import pandas as pd\n",
    "import numpy as np\n",
    "import seaborn as sns\n",
    "import matplotlib.pyplot as plt\n",
    "import warnings\n",
    "import math\n",
    "import configparser\n",
    "from sqlalchemy import create_engine  \n",
    "import statsmodels.api as sm\n",
    "import datetime\n",
    "import pickle\n",
    "\n",
    "\n",
    "config = configparser.ConfigParser()\n",
    "config.read('config.ini')\n",
    "conn_string = config.get('DATABASE', 'connection_url')\n",
    "\n",
    "\n",
    "#Таблица с новыми данными которые генерируются\n",
    "\n",
    "new_data_from_generator = 'house_prices_generator'\n",
    "\n",
    "\n",
    "with open('my_synthesizer.pkl', 'rb') as f:\n",
    "    synthesizer = pickle.load(f)  \n",
    "\n",
    "def upload_generator_data(new_data_from_generator):\n",
    "\n",
    "    #Генерация случайных данных\n",
    "\n",
    "    synthetic_data = synthesizer.sample(num_rows=10)\n",
    "    \n",
    "    #Баг с обучением\n",
    "\n",
    "    synthetic_data['3SsnPorch'] = 0\n",
    "\n",
    "    #Убираем баг и подставляем дату\n",
    "\n",
    "    synthetic_data['dt'] = datetime.datetime.today().strftime('%Y-%m-%d %H:%M:%S')\n",
    "    \n",
    "    engine = create_engine(conn_string) \n",
    "    \n",
    "    with engine.connect() as conn:\n",
    "        synthetic_data.to_sql(new_data_from_generator, con=conn, if_exists='replace',index=False) \n",
    "\n",
    "if __name__ == \"__main__\":\n",
    "    upload_generator_data(new_data_from_generator)\n",
    "    \n"
   ]
  },
  {
   "cell_type": "code",
   "execution_count": null,
   "id": "d36ee451-9108-4724-9dd4-038dba609246",
   "metadata": {},
   "outputs": [],
   "source": [
    "upload_generator_data(new_data_from_generator)"
   ]
  },
  {
   "cell_type": "code",
   "execution_count": null,
   "id": "efdd2e87-dce3-419a-a5e8-a24a3bd86d90",
   "metadata": {},
   "outputs": [],
   "source": [
    "#Функция для предобработки данных\n",
    "\n",
    "import pandas as pd\n",
    "import numpy as np\n",
    "import seaborn as sns\n",
    "import matplotlib.pyplot as plt\n",
    "import warnings\n",
    "import math\n",
    "import configparser\n",
    "from sqlalchemy import create_engine  \n",
    "import statsmodels.api as sm\n",
    "import datetime\n",
    "import pickle\n",
    "from sklearn.preprocessing import LabelEncoder\n",
    "\n",
    "config = configparser.ConfigParser()\n",
    "config.read('config.ini')\n",
    "conn_string = config.get('DATABASE', 'connection_url')\n",
    "\n",
    "#Таблица куда записываем предобработанный house_prices\n",
    "\n",
    "#Основная таблица\n",
    "\n",
    "general_table = 'house_prices_fin'\n",
    "\n",
    "#Таблица с новыми данными которые генерируются\n",
    "\n",
    "new_data_from_generator = 'house_prices_generator'\n",
    "\n",
    "#Таблица куда сохраняются предобработанные данные\n",
    "\n",
    "table_upload = 'house_prices_preprocess'\n",
    "\n",
    "# Загрузка сохраненного pipeline для числовых данных\n",
    "\n",
    "with open('num_pipe.pkl', 'rb') as f:\n",
    "    num_pipe = pickle.load(f)  \n",
    "\n",
    "\n",
    "#Загрузка сохраненного категориального импутера\n",
    "\n",
    "with open('cat_imputer.pkl', 'rb') as f:\n",
    "    cat_imputer = pickle.load(f) \n",
    "\n",
    "#Загрузка сохраненного Ordinal\n",
    "\n",
    "#Определение функции для label_encoder_transformer\n",
    "\n",
    "#def label_encode(X):\n",
    "#    return X.apply(lambda col: LabelEncoder().fit_transform(col))\n",
    "\n",
    "with open('ordinal_encoder.pkl', 'rb') as f:\n",
    "    ordinal_encoder = pickle.load(f)\n",
    "\n",
    "for_drop =['PoolQC', 'MiscFeature', 'Alley', 'Fence','Id','dt','SalePrice']\n",
    "\n",
    "def preprocess(new_data_from_generator,table_upload):\n",
    "\n",
    "    #Загрузка df из БД\n",
    "\n",
    "    engine = create_engine(conn_string)\n",
    "        \n",
    "    with engine.connect() as conn:\n",
    "        \n",
    "        query = f\"SELECT * FROM {new_data_from_generator}\"\n",
    "        \n",
    "        df = pd.read_sql(query, engine)\n",
    "\n",
    "    for_drop =['PoolQC', 'MiscFeature', 'Alley', 'Fence','Id','dt','SalePrice']\n",
    "    \n",
    "    df.drop(columns=for_drop,inplace=True)\n",
    "    \n",
    "    num_cols = df.select_dtypes(include=['float64', 'int64']).columns.to_list()\n",
    "    cat_cols = df.select_dtypes(include=['object']).columns.to_list()\n",
    "    \n",
    "    df[num_cols] = pd.DataFrame(num_pipe.transform(df[num_cols]),columns = num_cols)\n",
    "\n",
    "    df[cat_cols] = pd.DataFrame(cat_imputer.transform(df[cat_cols]),columns = cat_cols)\n",
    "\n",
    "    df[cat_cols] = pd.DataFrame(ordinal_encoder.transform(df[cat_cols]),columns = cat_cols)\n",
    "\n",
    "    #Запись таблицы в БД\n",
    "\n",
    "    db = create_engine(conn_string) \n",
    "    \n",
    "    with engine.connect() as conn:\n",
    "        \n",
    "        df.to_sql(table_upload, con=conn, if_exists='replace',index=False) \n",
    "\n",
    "#if __name__ == \"__main__\":\n",
    "#    preprocess(new_data_from_generator,table_upload)"
   ]
  },
  {
   "cell_type": "code",
   "execution_count": null,
   "id": "0676c94c-c7d0-45ba-909d-44c973c8305b",
   "metadata": {},
   "outputs": [],
   "source": [
    "preprocess(new_data_from_generator,table_upload)"
   ]
  },
  {
   "cell_type": "code",
   "execution_count": null,
   "id": "6ba5cf3d-20a0-4f70-a142-a0df70760cb6",
   "metadata": {},
   "outputs": [],
   "source": [
    "pip show setuptools"
   ]
  },
  {
   "cell_type": "code",
   "execution_count": null,
   "id": "8ce7e32f-77dc-4ca2-ba92-2884d7fe6297",
   "metadata": {},
   "outputs": [],
   "source": [
    "pip freeze > requirements.txt\n"
   ]
  },
  {
   "cell_type": "code",
   "execution_count": null,
   "id": "3203821e-9abb-4f01-b050-8c58f8d366a7",
   "metadata": {},
   "outputs": [],
   "source": [
    "pip show python\n"
   ]
  },
  {
   "cell_type": "code",
   "execution_count": null,
   "id": "2565aa43-4034-49f5-bfde-4a4965722973",
   "metadata": {},
   "outputs": [],
   "source": [
    "!conda info --envs\n"
   ]
  },
  {
   "cell_type": "code",
   "execution_count": null,
   "id": "56112f62-0014-47ed-b723-85dc24fca0b1",
   "metadata": {},
   "outputs": [],
   "source": [
    "conda env export > environment.yml\n"
   ]
  },
  {
   "cell_type": "code",
   "execution_count": null,
   "id": "937a624f-fc13-434c-bc12-179d70d04fe8",
   "metadata": {},
   "outputs": [],
   "source": [
    "#Функция самой модели\n",
    "\n",
    "import pandas as pd\n",
    "import numpy as np\n",
    "import seaborn as sns\n",
    "import matplotlib.pyplot as plt\n",
    "import warnings\n",
    "import math\n",
    "import configparser\n",
    "from sqlalchemy import create_engine  \n",
    "import statsmodels.api as sm\n",
    "import datetime\n",
    "import pickle\n",
    "from sklearn.preprocessing import LabelEncoder\n",
    "\n",
    "config = configparser.ConfigParser()\n",
    "config.read('config.ini')\n",
    "conn_string = config.get('DATABASE', 'connection_url')\n",
    "\n",
    "#Таблица куда записываем предобработанный house_prices\n",
    "\n",
    "#Основная таблица\n",
    "\n",
    "general_table = 'house_prices_fin'\n",
    "\n",
    "#Таблица с новыми данными которые генерируются\n",
    "\n",
    "new_data_from_generator = 'house_prices_generator'\n",
    "\n",
    "#Таблица куда сохраняются предобработанные данные\n",
    "\n",
    "table_upload = 'house_prices_preprocess'\n",
    "\n",
    "#Загрузка самой модели\n",
    "\n",
    "with open(\"XGBRegressor.pkl\", 'rb') as f:\n",
    "    XGB_model = pickle.load(f)\n",
    "\n",
    "for_drop =['PoolQC', 'MiscFeature', 'Alley', 'Fence','Id','dt','SalePrice']\n",
    "\n",
    "def model_apply(table_upload,new_data_from_generator,general_table):\n",
    "    \n",
    "    engine = create_engine(conn_string)\n",
    "        \n",
    "    with engine.connect() as conn:\n",
    "        \n",
    "        query = f\"SELECT * FROM {table_upload}\"\n",
    "        \n",
    "        df = pd.read_sql(query, engine)\n",
    "\n",
    "    df['prediction'] = XGB_model.predict(df)\n",
    "\n",
    "    \n",
    "    with engine.connect() as conn:\n",
    "        \n",
    "        query = f\"SELECT * FROM {new_data_from_generator}\"\n",
    "        \n",
    "        gen_df = pd.read_sql(query, engine)\n",
    "\n",
    "    fin = gen_df.join(df['prediction'])\n",
    "\n",
    "    \n",
    "    with engine.connect() as conn:\n",
    "        \n",
    "        fin.to_sql(general_table, con=conn, if_exists='append',index=False)\n",
    "\n",
    "if __name__ == \"__main__\":\n",
    "    model_apply(table_upload,new_data_from_generator,general_table)"
   ]
  },
  {
   "cell_type": "code",
   "execution_count": null,
   "id": "f00bc9aa-e356-4c69-a204-0872578b0431",
   "metadata": {},
   "outputs": [],
   "source": [
    "model_apply(table_upload,new_data_from_generator,general_table)"
   ]
  },
  {
   "cell_type": "code",
   "execution_count": null,
   "id": "461c3291-1c9a-497f-8863-3aef935097d0",
   "metadata": {},
   "outputs": [],
   "source": [
    "config = configparser.ConfigParser()\n",
    "config.read('config.ini')\n",
    "conn_string = config.get('DATABASE', 'connection_url')\n",
    "\n",
    "#Таблица куда записываем предобработанный house_prices\n",
    "\n",
    "table_download = new_data_from_generator\n",
    "table_upload = 'house_prices_preprocess'\n",
    "\n",
    "preprocess(conn_string,table_download,table_upload)"
   ]
  },
  {
   "cell_type": "code",
   "execution_count": null,
   "id": "1337c436-cc5f-4672-93d7-63a6774d8bdc",
   "metadata": {},
   "outputs": [],
   "source": [
    "train_df.shape"
   ]
  },
  {
   "cell_type": "code",
   "execution_count": null,
   "id": "06589d1b-686f-4ac3-985b-237368ea9061",
   "metadata": {},
   "outputs": [],
   "source": [
    "for_drop =['PoolQC', 'MiscFeature', 'Alley', 'Fence','Id','dt','SalePrice']"
   ]
  },
  {
   "cell_type": "code",
   "execution_count": null,
   "id": "6c9ce9cd-9d27-4a08-baf2-ce7c93fc0cca",
   "metadata": {},
   "outputs": [],
   "source": [
    "train_df.drop(columns=for_drop,inplace=True)"
   ]
  },
  {
   "cell_type": "code",
   "execution_count": null,
   "id": "c3da0c3c-7638-403d-9544-ace9f4170f45",
   "metadata": {},
   "outputs": [],
   "source": [
    "train_df.head(1)"
   ]
  },
  {
   "cell_type": "code",
   "execution_count": null,
   "id": "200bbd95-3848-4879-8da0-9a55f7556596",
   "metadata": {},
   "outputs": [],
   "source": [
    "train_df.shape"
   ]
  },
  {
   "cell_type": "code",
   "execution_count": null,
   "id": "f039f991-cabb-4225-b8b3-0336d0c1ed5f",
   "metadata": {},
   "outputs": [],
   "source": [
    "# Разделяем на числовые и категориальные данные\n",
    "\n",
    "num_cols = train_df.select_dtypes(include=['float64', 'int64']).columns.to_list()\n",
    "\n",
    "cat_cols = train_df.select_dtypes(include=['object']).columns.to_list()"
   ]
  },
  {
   "cell_type": "code",
   "execution_count": null,
   "id": "d7ef5722-83c1-4e51-9e23-4dc36e51b568",
   "metadata": {},
   "outputs": [],
   "source": [
    "# Загрузка сохраненного pipeline для числовых данных\n",
    "\n",
    "with open('num_pipe.pkl', 'rb') as f:\n",
    "    num_pipe = pickle.load(f)  "
   ]
  },
  {
   "cell_type": "code",
   "execution_count": null,
   "id": "32b717c5-8cee-4e37-ac43-f79b31717ddd",
   "metadata": {},
   "outputs": [],
   "source": [
    "#Применение пайплайна\n",
    "\n",
    "train_df[num_cols] = pd.DataFrame(num_pipe.transform(train_df[num_cols]),columns = num_cols)"
   ]
  },
  {
   "cell_type": "code",
   "execution_count": null,
   "id": "badbe6eb-7c99-475d-8aab-34b71af49ac4",
   "metadata": {},
   "outputs": [],
   "source": [
    "train_df.head(5)"
   ]
  },
  {
   "cell_type": "code",
   "execution_count": null,
   "id": "e8654e74-f202-4dc8-8e27-9d937442f795",
   "metadata": {},
   "outputs": [],
   "source": [
    "#Загрузка сохраненного категориального импутера\n",
    "\n",
    "with open('cat_imputer.pkl', 'rb') as f:\n",
    "    cat_imputer = pickle.load(f)  "
   ]
  },
  {
   "cell_type": "code",
   "execution_count": null,
   "id": "d493f854-d46c-43e3-9968-c5be59d127f5",
   "metadata": {},
   "outputs": [],
   "source": [
    "#Применение\n",
    "\n",
    "train_df[cat_cols] = pd.DataFrame(cat_imputer.transform(train_df[cat_cols]),columns = cat_cols)"
   ]
  },
  {
   "cell_type": "code",
   "execution_count": null,
   "id": "65bd833a-60a0-4568-a66d-b47985d5c0db",
   "metadata": {},
   "outputs": [],
   "source": [
    "#Загрузка сохраненного label_encoder_transformer\n",
    "\n",
    "def label_encode(X):\n",
    "    return X.apply(lambda col: LabelEncoder().fit_transform(col))\n",
    "\n",
    "with open('label_encoder_transformer.pkl', 'rb') as f:\n",
    "    label_encoder = pickle.load(f)"
   ]
  },
  {
   "cell_type": "code",
   "execution_count": null,
   "id": "33147c5b-b7c7-4578-9f20-7aa93808803b",
   "metadata": {},
   "outputs": [],
   "source": [
    "train_df[cat_cols] = pd.DataFrame(label_encoder.transform(train_df[cat_cols]),columns = cat_cols)"
   ]
  },
  {
   "cell_type": "code",
   "execution_count": null,
   "id": "a358333e-dc75-4872-830b-cb789aad27ac",
   "metadata": {},
   "outputs": [],
   "source": [
    "train_df"
   ]
  },
  {
   "cell_type": "code",
   "execution_count": null,
   "id": "cddeeeaf-303d-4588-b04d-dba46ba306a2",
   "metadata": {},
   "outputs": [],
   "source": [
    "train_df.shape"
   ]
  },
  {
   "cell_type": "code",
   "execution_count": null,
   "id": "97f8180c-2819-44d3-a99c-b2749fd72158",
   "metadata": {},
   "outputs": [],
   "source": [
    "#Модель\n",
    "\n",
    "with open('XGBRegressor.pkl', 'rb') as f:\n",
    "    XGBRegressor = pickle.load(f)  "
   ]
  },
  {
   "cell_type": "code",
   "execution_count": null,
   "id": "68aa1c58-2f86-4cb1-8c98-c4dbd9a903c1",
   "metadata": {},
   "outputs": [],
   "source": [
    "#Prediction\n",
    "\n",
    "train_df['prediction'] = XGBRegressor.predict(train_df)"
   ]
  },
  {
   "cell_type": "code",
   "execution_count": null,
   "id": "b27851ed-aec9-4082-9303-158459d97d60",
   "metadata": {},
   "outputs": [],
   "source": [
    "train_df"
   ]
  },
  {
   "cell_type": "code",
   "execution_count": null,
   "id": "ac718f5f-9738-4a82-8a79-ff4fdc571549",
   "metadata": {},
   "outputs": [],
   "source": [
    "train_df = train_df.join()"
   ]
  },
  {
   "cell_type": "code",
   "execution_count": null,
   "id": "e92448b6-c626-4102-935c-dfea67433947",
   "metadata": {},
   "outputs": [],
   "source": []
  },
  {
   "cell_type": "code",
   "execution_count": null,
   "id": "6ac6bb1d-4d0e-4357-a443-32bea6c3c0e6",
   "metadata": {},
   "outputs": [],
   "source": []
  },
  {
   "cell_type": "code",
   "execution_count": null,
   "id": "4232e196-5bd3-4189-878a-f87263e51859",
   "metadata": {},
   "outputs": [],
   "source": [
    "#Функция для предобработки данных\n",
    "\n",
    "import pandas as pd\n",
    "import numpy as np\n",
    "import seaborn as sns\n",
    "import matplotlib.pyplot as plt\n",
    "import warnings\n",
    "import math\n",
    "import configparser\n",
    "from sqlalchemy import create_engine  \n",
    "import statsmodels.api as sm\n",
    "import datetime\n",
    "import pickle\n",
    "from sklearn.preprocessing import LabelEncoder\n",
    "\n",
    "config = configparser.ConfigParser()\n",
    "config.read('config.ini')\n",
    "conn_string = config.get('DATABASE', 'connection_url')\n",
    "\n",
    "#Таблица куда записываем предобработанный house_prices\n",
    "\n",
    "#Основная таблица\n",
    "\n",
    "general_table = 'house_prices_fin'\n",
    "\n",
    "#Таблица с новыми данными которые генерируются\n",
    "\n",
    "new_data_from_generator = 'house_prices_generator'\n",
    "\n",
    "#Таблица куда сохраняются предобработанные данные\n",
    "\n",
    "table_upload = 'house_prices_preprocess'\n",
    "\n",
    "# Загрузка сохраненного pipeline для числовых данных\n",
    "\n",
    "with open('num_pipe.pkl', 'rb') as f:\n",
    "    num_pipe = pickle.load(f)  \n",
    "\n",
    "\n",
    "#Загрузка сохраненного категориального импутера\n",
    "\n",
    "with open('cat_imputer.pkl', 'rb') as f:\n",
    "    cat_imputer = pickle.load(f) \n",
    "\n",
    "#Загрузка сохраненного Ordinal\n",
    "\n",
    "#Определение функции для label_encoder_transformer\n",
    "\n",
    "#def label_encode(X):\n",
    "#    return X.apply(lambda col: LabelEncoder().fit_transform(col))\n",
    "\n",
    "with open('ordinal_encoder.pkl', 'rb') as f:\n",
    "    ordinal_encoder = pickle.load(f)\n",
    "\n",
    "for_drop =['PoolQC', 'MiscFeature', 'Alley', 'Fence','Id','dt','SalePrice']\n",
    "\n",
    "def preprocess(new_data_from_generator,table_upload):\n",
    "\n",
    "    #Загрузка df из БД\n",
    "\n",
    "    engine = create_engine(conn_string)\n",
    "        \n",
    "    with engine.connect() as conn:\n",
    "        \n",
    "        query = f\"SELECT * FROM {new_data_from_generator}\"\n",
    "        \n",
    "        df = pd.read_sql(query, engine)\n",
    "\n",
    "    for_drop =['PoolQC', 'MiscFeature', 'Alley', 'Fence','Id','dt','SalePrice']\n",
    "    \n",
    "    df.drop(columns=for_drop,inplace=True)\n",
    "    \n",
    "    num_cols = df.select_dtypes(include=['float64', 'int64']).columns.to_list()\n",
    "    cat_cols = df.select_dtypes(include=['object']).columns.to_list()\n",
    "    \n",
    "    df[num_cols] = pd.DataFrame(num_pipe.transform(df[num_cols]),columns = num_cols)\n",
    "\n",
    "    df[cat_cols] = pd.DataFrame(cat_imputer.transform(df[cat_cols]),columns = cat_cols)\n",
    "\n",
    "    df[cat_cols] = pd.DataFrame(ordinal_encoder.transform(df[cat_cols]),columns = cat_cols)\n",
    "\n",
    "    return df"
   ]
  },
  {
   "cell_type": "code",
   "execution_count": null,
   "id": "91dd5c82-d7a5-4f49-b531-1400e09f746b",
   "metadata": {
    "scrolled": true
   },
   "outputs": [],
   "source": [
    "#Основная таблица\n",
    "\n",
    "general_table = 'house_prices_fin'\n",
    "\n",
    "#Таблица с новыми данными которые генерируются\n",
    "\n",
    "new_data_from_generator = 'house_prices_generator'\n",
    "\n",
    "#Таблица куда сохраняются предобработанные данные\n",
    "\n",
    "table_upload = 'house_prices_preprocess'\n",
    "\n",
    "preprocess(new_data_from_generator,table_upload)"
   ]
  },
  {
   "cell_type": "code",
   "execution_count": null,
   "id": "d3ef1874-0614-496f-90bc-71a1037d05b4",
   "metadata": {},
   "outputs": [],
   "source": [
    "#Ставим кол-во выводимых строк и столбцов \n",
    "\n",
    "pd.set_option('display.max_rows', 500)\n",
    "pd.set_option('display.max_columns', 500)\n",
    "pd.set_option('display.max_colwidth', None)\n",
    "\n",
    "#Отключаем предупреждения\n",
    "\n",
    "warnings.filterwarnings('ignore')"
   ]
  },
  {
   "cell_type": "code",
   "execution_count": null,
   "id": "918f5bdf-fdf0-444d-90b5-bcb212891752",
   "metadata": {},
   "outputs": [],
   "source": [
    "engine = create_engine(conn_string)\n",
    "\n",
    "with engine.connect() as conn:\n",
    "    query = f\"SELECT * FROM {new_data_from_generator}\"\n",
    "    df = pd.read_sql(query, engine)"
   ]
  },
  {
   "cell_type": "code",
   "execution_count": null,
   "id": "d7f46880-ab0f-4120-9ea1-9291c5f52bb2",
   "metadata": {
    "scrolled": true
   },
   "outputs": [],
   "source": [
    "df.dtypes"
   ]
  }
 ],
 "metadata": {
  "kernelspec": {
   "display_name": "Python 3 (ipykernel)",
   "language": "python",
   "name": "python3"
  },
  "language_info": {
   "codemirror_mode": {
    "name": "ipython",
    "version": 3
   },
   "file_extension": ".py",
   "mimetype": "text/x-python",
   "name": "python",
   "nbconvert_exporter": "python",
   "pygments_lexer": "ipython3",
   "version": "3.11.7"
  }
 },
 "nbformat": 4,
 "nbformat_minor": 5
}
