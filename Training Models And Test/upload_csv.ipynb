{
 "cells": [
  {
   "cell_type": "code",
   "execution_count": 1,
   "id": "45d9b05d-8d9f-4faa-aa2a-dc76b900d4f2",
   "metadata": {},
   "outputs": [],
   "source": [
    "import pandas as pd\n",
    "import psycopg2\n",
    "from sqlalchemy import create_engine \n",
    "import configparser\n",
    "import datetime"
   ]
  },
  {
   "cell_type": "code",
   "execution_count": 3,
   "id": "0672498c-b209-440e-bbb2-48cf26f4d085",
   "metadata": {},
   "outputs": [],
   "source": [
    "#Берем данные по БД\n",
    "\n",
    "config = configparser.ConfigParser()\n",
    "config.read('config.ini')\n",
    "conn_string = config.get('DATABASE', 'connection_url')"
   ]
  },
  {
   "cell_type": "code",
   "execution_count": 4,
   "id": "a376b05c-dba3-465d-857f-0b1b765b741d",
   "metadata": {},
   "outputs": [],
   "source": [
    "#Функция чтения и записи в БД\n",
    "\n",
    "def upload_to_db(df_in_path,db_table_out):\n",
    "    try:\n",
    "        with open(df_in_path) as f:\n",
    "            df = pd.read_csv(f)\n",
    "            df['dt'] = datetime.datetime.today().strftime('%Y-%m-%d %H:%M:%S')\n",
    "            print('Reading is ok!')\n",
    "        \n",
    "        db = create_engine(conn_string) \n",
    "        with db.connect() as conn:\n",
    "            \n",
    "            df.to_sql(db_table_out, con=conn, if_exists='replace',index=False) \n",
    "            print('Uploaded')\n",
    "    finally:\n",
    "        print('OK')\n"
   ]
  },
  {
   "cell_type": "code",
   "execution_count": 6,
   "id": "6f0b2856-67fb-4964-8a28-3456d72af5f5",
   "metadata": {},
   "outputs": [
    {
     "name": "stdout",
     "output_type": "stream",
     "text": [
      "Reading is ok!\n",
      "Uploaded\n",
      "OK\n"
     ]
    }
   ],
   "source": [
    "path = 'train.csv'\n",
    "table = 'house_prices_train'\n",
    "upload_to_db(path,table)"
   ]
  }
 ],
 "metadata": {
  "kernelspec": {
   "display_name": "Python 3 (ipykernel)",
   "language": "python",
   "name": "python3"
  },
  "language_info": {
   "codemirror_mode": {
    "name": "ipython",
    "version": 3
   },
   "file_extension": ".py",
   "mimetype": "text/x-python",
   "name": "python",
   "nbconvert_exporter": "python",
   "pygments_lexer": "ipython3",
   "version": "3.12.4"
  }
 },
 "nbformat": 4,
 "nbformat_minor": 5
}
