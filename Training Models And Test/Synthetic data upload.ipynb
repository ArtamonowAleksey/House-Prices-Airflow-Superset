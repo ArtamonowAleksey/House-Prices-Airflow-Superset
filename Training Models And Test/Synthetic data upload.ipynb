{
 "cells": [
  {
   "cell_type": "code",
   "execution_count": 2,
   "id": "ff05457c-9767-42eb-b68a-b4cf1c59195f",
   "metadata": {},
   "outputs": [],
   "source": [
    "import pandas as pd\n",
    "import psycopg2\n",
    "from sqlalchemy import create_engine \n",
    "import configparser \n",
    "import datetime\n",
    "\n",
    "from sdv.single_table import GaussianCopulaSynthesizer\n",
    "from sdv.metadata import Metadata"
   ]
  },
  {
   "cell_type": "code",
   "execution_count": 3,
   "id": "c246bc6e-eb7c-4e6b-af18-db3e3b01b51f",
   "metadata": {},
   "outputs": [
    {
     "ename": "NoSectionError",
     "evalue": "No section: 'DATABASE'",
     "output_type": "error",
     "traceback": [
      "\u001b[0;31m---------------------------------------------------------------------------\u001b[0m",
      "\u001b[0;31mNoSectionError\u001b[0m                            Traceback (most recent call last)",
      "Cell \u001b[0;32mIn[3], line 5\u001b[0m\n\u001b[1;32m      3\u001b[0m config \u001b[38;5;241m=\u001b[39m configparser\u001b[38;5;241m.\u001b[39mConfigParser()\n\u001b[1;32m      4\u001b[0m config\u001b[38;5;241m.\u001b[39mread(\u001b[38;5;124m'\u001b[39m\u001b[38;5;124m/home/aleksey/Notebooks_Projects/House-Prices-Airflow-Superset/config.ini\u001b[39m\u001b[38;5;124m'\u001b[39m)\n\u001b[0;32m----> 5\u001b[0m conn_string \u001b[38;5;241m=\u001b[39m config\u001b[38;5;241m.\u001b[39mget(\u001b[38;5;124m'\u001b[39m\u001b[38;5;124mDATABASE\u001b[39m\u001b[38;5;124m'\u001b[39m, \u001b[38;5;124m'\u001b[39m\u001b[38;5;124mconnection_url\u001b[39m\u001b[38;5;124m'\u001b[39m)\n",
      "File \u001b[0;32m~/anaconda3/lib/python3.12/configparser.py:759\u001b[0m, in \u001b[0;36mRawConfigParser.get\u001b[0;34m(self, section, option, raw, vars, fallback)\u001b[0m\n\u001b[1;32m    744\u001b[0m \u001b[38;5;250m\u001b[39m\u001b[38;5;124;03m\"\"\"Get an option value for a given section.\u001b[39;00m\n\u001b[1;32m    745\u001b[0m \n\u001b[1;32m    746\u001b[0m \u001b[38;5;124;03mIf `vars` is provided, it must be a dictionary. The option is looked up\u001b[39;00m\n\u001b[0;32m   (...)\u001b[0m\n\u001b[1;32m    756\u001b[0m \u001b[38;5;124;03mThe section DEFAULT is special.\u001b[39;00m\n\u001b[1;32m    757\u001b[0m \u001b[38;5;124;03m\"\"\"\u001b[39;00m\n\u001b[1;32m    758\u001b[0m \u001b[38;5;28;01mtry\u001b[39;00m:\n\u001b[0;32m--> 759\u001b[0m     d \u001b[38;5;241m=\u001b[39m \u001b[38;5;28mself\u001b[39m\u001b[38;5;241m.\u001b[39m_unify_values(section, \u001b[38;5;28mvars\u001b[39m)\n\u001b[1;32m    760\u001b[0m \u001b[38;5;28;01mexcept\u001b[39;00m NoSectionError:\n\u001b[1;32m    761\u001b[0m     \u001b[38;5;28;01mif\u001b[39;00m fallback \u001b[38;5;129;01mis\u001b[39;00m _UNSET:\n",
      "File \u001b[0;32m~/anaconda3/lib/python3.12/configparser.py:1132\u001b[0m, in \u001b[0;36mRawConfigParser._unify_values\u001b[0;34m(self, section, vars)\u001b[0m\n\u001b[1;32m   1130\u001b[0m \u001b[38;5;28;01mexcept\u001b[39;00m \u001b[38;5;167;01mKeyError\u001b[39;00m:\n\u001b[1;32m   1131\u001b[0m     \u001b[38;5;28;01mif\u001b[39;00m section \u001b[38;5;241m!=\u001b[39m \u001b[38;5;28mself\u001b[39m\u001b[38;5;241m.\u001b[39mdefault_section:\n\u001b[0;32m-> 1132\u001b[0m         \u001b[38;5;28;01mraise\u001b[39;00m NoSectionError(section) \u001b[38;5;28;01mfrom\u001b[39;00m \u001b[38;5;28;01mNone\u001b[39;00m\n\u001b[1;32m   1133\u001b[0m \u001b[38;5;66;03m# Update with the entry specific variables\u001b[39;00m\n\u001b[1;32m   1134\u001b[0m vardict \u001b[38;5;241m=\u001b[39m {}\n",
      "\u001b[0;31mNoSectionError\u001b[0m: No section: 'DATABASE'"
     ]
    }
   ],
   "source": [
    "#Берем данные по БД\n",
    "\n",
    "config = configparser.ConfigParser()\n",
    "config.read('/home/aleksey/Notebooks_Projects/House-Prices-Airflow-Superset/config.ini')\n",
    "conn_string = config.get('DATABASE', 'connection_url')"
   ]
  },
  {
   "cell_type": "code",
   "execution_count": 1,
   "id": "09a79395-5d0d-4705-b4c8-51b78eb25b69",
   "metadata": {},
   "outputs": [
    {
     "ename": "NameError",
     "evalue": "name 'GaussianCopulaSynthesizer' is not defined",
     "output_type": "error",
     "traceback": [
      "\u001b[0;31m---------------------------------------------------------------------------\u001b[0m",
      "\u001b[0;31mNameError\u001b[0m                                 Traceback (most recent call last)",
      "Cell \u001b[0;32mIn[1], line 7\u001b[0m\n\u001b[1;32m      1\u001b[0m \u001b[38;5;66;03m#Загружаем данные в БД\u001b[39;00m\n\u001b[1;32m      2\u001b[0m \n\u001b[1;32m      3\u001b[0m \n\u001b[1;32m      4\u001b[0m \u001b[38;5;66;03m#Загрузка модели для генерации случайных данных\u001b[39;00m\n\u001b[1;32m      6\u001b[0m filepath\u001b[38;5;241m=\u001b[39m\u001b[38;5;124m'\u001b[39m\u001b[38;5;124m/home/aleksey/Notebooks_Projects/House-Prices-Airflow-Superset/Models/my_synthesizer.pkl\u001b[39m\u001b[38;5;124m'\u001b[39m\n\u001b[0;32m----> 7\u001b[0m synthesizer \u001b[38;5;241m=\u001b[39m GaussianCopulaSynthesizer\u001b[38;5;241m.\u001b[39mload(filepath)\n\u001b[1;32m      9\u001b[0m synthetic_data \u001b[38;5;241m=\u001b[39m synthesizer\u001b[38;5;241m.\u001b[39msample(num_rows\u001b[38;5;241m=\u001b[39m\u001b[38;5;241m10\u001b[39m)\n\u001b[1;32m     11\u001b[0m \u001b[38;5;66;03m#Убираем баг и подставляем дату\u001b[39;00m\n",
      "\u001b[0;31mNameError\u001b[0m: name 'GaussianCopulaSynthesizer' is not defined"
     ]
    }
   ],
   "source": [
    "#Загружаем данные в БД\n",
    "\n",
    "\n",
    "#Загрузка модели для генерации случайных данных\n",
    "\n",
    "filepath='/home/aleksey/Notebooks_Projects/House-Prices-Airflow-Superset/Models/my_synthesizer.pkl'\n",
    "synthesizer = GaussianCopulaSynthesizer.load(filepath)\n",
    "\n",
    "synthetic_data = synthesizer.sample(num_rows=10)\n",
    "\n",
    "#Убираем баг и подставляем дату\n",
    "\n",
    "synthetic_data['dt'] = datetime.datetime.today().strftime('%Y-%m-%d %H:%M:%S')\n",
    "\n",
    "#Баг с обучением\n",
    "\n",
    "synthetic_data['3SsnPorch'] = 0\n",
    "\n",
    "#Функция чтения и записи в БД\n",
    "\n",
    "def upload_to_db(df_in,db_table_out):\n",
    "    \n",
    "    try:\n",
    "\n",
    "        db = create_engine(conn_string) \n",
    "        with db.connect() as conn:\n",
    "            \n",
    "            df_in.to_sql(db_table_out, con=conn, if_exists='append',index=False) \n",
    "            print('Uploaded')\n",
    "    finally:\n",
    "        print('OK')\n",
    "\n",
    "#Добавить логирование в файл"
   ]
  },
  {
   "cell_type": "code",
   "execution_count": 9,
   "id": "b8188c89-d7f8-41bf-b24c-f43bb8e62079",
   "metadata": {},
   "outputs": [
    {
     "name": "stdout",
     "output_type": "stream",
     "text": [
      "Uploaded\n",
      "OK\n"
     ]
    }
   ],
   "source": [
    "df_in = synthetic_data\n",
    "db_table_out = 'house_prices_generator'\n",
    "\n",
    "upload_to_db(df_in,db_table_out)"
   ]
  }
 ],
 "metadata": {
  "kernelspec": {
   "display_name": "Python 3 (ipykernel)",
   "language": "python",
   "name": "python3"
  },
  "language_info": {
   "codemirror_mode": {
    "name": "ipython",
    "version": 3
   },
   "file_extension": ".py",
   "mimetype": "text/x-python",
   "name": "python",
   "nbconvert_exporter": "python",
   "pygments_lexer": "ipython3",
   "version": "3.12.4"
  }
 },
 "nbformat": 4,
 "nbformat_minor": 5
}
